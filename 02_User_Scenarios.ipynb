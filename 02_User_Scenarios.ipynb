{
 "cells": [
  {
   "cell_type": "markdown",
   "id": "30dd4c5a-6a3f-4cf6-a744-6e207fc154fe",
   "metadata": {},
   "source": [
    "## App overview/idea:\n",
    "Originally the app was intended to be in use for athletes of all levels and different sports. For a more narrow and specific purview, we chose to center the app on running-specific tasks and info generation (mostly for the sake of training data simplicity). So the following user scenarios will be tailored towards running-specific queries and information gathering. The application is still intended to be used by athletes or individuals working within/interested in the running domain (i.e. coaches of all levels, assistant coaches, etc.)."
   ]
  },
  {
   "cell_type": "markdown",
   "id": "bdec9f73-40b6-474d-9ac9-8e52cc931a54",
   "metadata": {},
   "source": [
    "## Training Data:\n",
    "* The primary data that the application will have access to will be a user's specific training data (i.e. the Garmin application keeps track of running logs with heart rates during the run, paces, etc. that the application will use to answer questions)\n",
    "\n",
    "**Other information that the application might be trained on:**\n",
    "* Pace charts\n",
    "  * VDOT1, VDOT2 charts (these might be updated yearly)-compiled into an data base\n",
    "* Supplementary exercises for runners:\n",
    "  * Popular weight lifting exercises/regiments\n",
    "  * Popular plyo exercises\n",
    "  * etc.\n",
    "* Types of nutritional diets/plans\n",
    "  * Research on what diet groups need to be emphasized (i.e. carbs and protein,\n",
    "    which are especially important for refueling post-workout)\n",
    "* Scientific studies/information on best sleeping practices (i.e. how many hours a night, may differ according to gender, age, etc.)"
   ]
  },
  {
   "cell_type": "markdown",
   "id": "2740a83e-9768-4723-a4eb-4c08afe6a12f",
   "metadata": {},
   "source": [
    "### General/example outputs:\n",
    "The majority of outputs might include some of or all of the following/variations of this kind of information, depending on the query and user input.\n",
    "\n",
    "* Training/workout plans on the desired timeframe (i.e. weekly, daily, monthly training)\n",
    "    * For reference: most plans for D1 college XC/track athletes run for\n",
    "      6-7 days per week, incorporate 2-3 hard, intense workouts (of those 6-7), and\n",
    "      the rest of the week maintenance/lower intensity workouts/runs\n",
    "    * Recovery plans (how often/long one should be recovering for)\n",
    "* Supplementary skill or exercise drills (i.e. plyos) to strengthen the desired muscle group; sport-dependent\n",
    "* Weight lifting exercises (for most, this would be incorporated for generally 2-3 days of the week)\n",
    "* Daily affirmations/messages/updates that accompany the weekly training plan\n",
    "    * Generated daily\n",
    "    * Can include contingency updates (i.e. if missed a day of training or adjusted\n",
    "      the workout, the daily message can include information on how to spring back)\n",
    "* External practices:\n",
    "  * Nutrional or dietary suggestions, sleep recommendations"
   ]
  },
  {
   "cell_type": "markdown",
   "id": "08bb2ce0-39f3-4b65-8c05-482ee6732fd7",
   "metadata": {},
   "source": [
    "### Note: Inputs\n",
    "* The following user scenarios will include a list of data or information that the user may choose to input. This is not an exclusive list, nor is each detail/point necessarily required\n",
    "* The level of specificity the app will output depend on what the user desires, which is given how much information they feed into the application (the query should include how the information is presented i.e. in a table, a list, etc., and the more personal/specific information they give, i.e. heart rate averages, the more detail and best course of action provided by the LLM)\n",
    "  * For example, they may want a detailed training plan or weekly breakdown\n",
    "  * Or they may want a short paragraph summary of some general best practices (likely the default response to a simple query like, \"what is the best way to get into running?\")\n"
   ]
  },
  {
   "cell_type": "markdown",
   "id": "5e120719-861b-4de8-af06-c33d0537eb95",
   "metadata": {},
   "source": [
    "## User Scenarios\n",
    "\n",
    "## 1.\n",
    "Someone who used to run is looking to get back into running after having been away from the sport for a certain number of years. This query may vary by the highest level participated, the type of distance they participated in, how long the user has been away from the sport, and the level they are trying to get back to. \n",
    "\n",
    "* Ex (1): I was a college, division X (i.e. 1-3) athlete looking to get back into running after being away from the sport for \n",
    "* Ex (2): I was a high school distance runner \n",
    "\n",
    "**Input data**: The user could input:\n",
    "* How long since they last ran\n",
    "* what level they played at (high school, college-if so, which division),\n",
    "* If they participated in an endurance sport, they can input previous times at       peak fitness and current times\n",
    "* The user may also input current goal times\n",
    "* What weights they have been lifitng at/or if lifting at all\n",
    "\n",
    "**Output**: \n",
    "* A weekly breakdown/timeline\n",
    "* General best practices"
   ]
  },
  {
   "cell_type": "markdown",
   "id": "e0d22f6f-b257-4719-b842-a647515b1adc",
   "metadata": {},
   "source": [
    "## 2.\n",
    "A novice looking to enter into running, or an athlete of a different sport looking to transition into running\n",
    "\n",
    "**Input data:**\n",
    "* Previous sport\n",
    "* (Maybe) level played at/level of proficiency at other sport (0-x number of years played)\n",
    "* Goal level of running (leisurely, looking to train for a marathon or other upcoming race)\n",
    "* Type of running desired: sprinting, long distance running, middle distance (800m-mile type of racing)\n",
    "* Biometrics: i.e. resting heart rate, max heart rate, heart rate at X running pace, ...\n",
    "* A user could maybe have the option of inputting video data (i.e. a video of them playing the other sport; implying the model would be trained on video data)\n",
    "\n",
    "**Output:**\n",
    "* List of (potentially new) muscle groups that need to be targeted and strengthened\n",
    "* How often a day or week the user should be running for\n",
    "  * this might be in the form of a progression: ex. the first week run for 4 days, second week run for 5-6, etc. (dependent on level of fitness prior to running consistently)"
   ]
  },
  {
   "cell_type": "markdown",
   "id": "1351b913-0f80-4c24-9caa-a7f5884da830",
   "metadata": {},
   "source": [
    "## 3.\n",
    "A D1 (or other) college runner is looking to increase certain paces: ex. lactate threshold, marathon pace, race pace, etc.\n",
    "\n",
    "**Input data:**\n",
    "* The desired pace the user wants to improve, and maybe what their goal pace is\n",
    "* Race PRs\n",
    "* max & average heart rate in workouts\n",
    "* what workouts the user is currently doing (i.e. are they aerobic or anaerobic targeted, are they practicing tempos, or doing short, intense 400m reps, etc.)\n",
    "  * and maybe often a week i.e. two workouts a week, three\n",
    "* Resting heart rates\n",
    "\n",
    "**Output**\n",
    "* a progression pace chart that maps out starting paces (that the user inputs, for example) and goal  after a certain period\n",
    "  * Gradual progression on a week to week basis (maybe biweekly, depending on the desire of the user)\n",
    "* A blurb/paragraph that details best practices for targeting these areas/capacities, i.e. what workouts might look like (\"include shorter reps in workouts,\" or \"focus on longer bouts of running for 30-40min while keeping your heart rate at a certain level or at a certain pace,\" etc.)"
   ]
  },
  {
   "cell_type": "markdown",
   "id": "a16ccff1-f6fc-48c6-aa06-523751475127",
   "metadata": {},
   "source": [
    "## 4.\n",
    "An athlete/amateur athlete looking for a progression timeline for getting back into a sport after injury\n",
    "\n",
    "**Input:**\n",
    "* Detailing the kind of injury, how long they have been injured for\n",
    "i.e. \"I have been injured for X amount of time in my ___ (ankle, shin), what is the best course of action for returning to my sport after an injury to ___\" or \"I injured this muscle, how to rehab?\"\n",
    "\n",
    "**Output:**\n",
    "* A workout timeline, including a recovery period; maybe the timeline can be split into phases (i.e. first phase: recovery + rehab exercises;\n",
    "  - second phase-easy running, incorporating relatively easy/light workouts\n",
    "  - third phase: harder, lactate-threshold workouts, 30-40 minute tempos, etc."
   ]
  },
  {
   "cell_type": "markdown",
   "id": "408c34e1-813b-4d9c-b5e4-86e7e7464fee",
   "metadata": {},
   "source": [
    "## 5.\n",
    "A runner of any level might be interested in training for a particular race (a marathon, an 800m, a mile, a 5k).\n",
    "* Note: this is different from the third user scenario, which focuses on specific races with no particular distance in mind; the output might generate workout goals that include certain distances to be run weekly or on certain days, but this differs from the above query in that the user is asking the application to give advice in targeting and improving a specific aerobic or anaerobic capacity.\n",
    "\n",
    "**Input**:\n",
    "* Longest distance run\n",
    "* Desired race\n",
    "* Average heart rates per run/workout, current pace(s)\n",
    "* How far out the race is/how long you want to train for\n",
    "\n",
    "**Output**:\n",
    "* Training plans (daily, weekly, monthly)-(similar to previous outputs) that may include:\n",
    "  * Weekly mileage goals, which can be broken down by day (Mon run 6 miles, Tues run 10, Wednesday run 12, Thursday-off/cross train for X miuntes/easy run, etc.)\n",
    "  * Includes recovery periods (i.e. Thurs and Mon should be off days, etc.)\n",
    "* Daily affirmations (w/ contingency updates)"
   ]
  },
  {
   "cell_type": "markdown",
   "id": "c161d831-daf0-4008-9f92-8f3dd9b68259",
   "metadata": {},
   "source": [
    "## 6.\n",
    "A runner of a specific event (i.e. middle distance runner that primarily runs the 800m-mile, or a distance runner that runs distances 3k and up, etc.) asking what specific paces they want to hit for a particular workout \n",
    "* Ex: \"I'm a female 800m runner and I'm going to do a workout that follows as: 16x400m (a.k.a. 16 reps of 400m/1 lap), with 75 seconds rest between each rep. I recently raced a 2:10min for the 800m last week, and I feel fatigued coming off of my run yesterday; what pace should I aim to hit these paces at?\"\n",
    "\n",
    "**Input**:\n",
    "* The query specifying your event, the workout you're doing, and what pace you're trying to hit/optimal paces for the workout.\n",
    "* There could be other variable factors that you include like:\n",
    "  * having a race next week-how might this adjust how fast you go & how it might affect the recovery process\n",
    "  * Or, you felt fatigued on the last lap; how might this influence how fast you go in successive reps?\n",
    "\n",
    "**Output**:\n",
    "* A pace range (Ex: 78-80s per lap)"
   ]
  },
  {
   "cell_type": "markdown",
   "id": "1ca00eef-c6a9-4efe-97cb-d4405d0b4203",
   "metadata": {},
   "source": [
    "## 7.\n",
    "If I have X stats as a distance runner of the 3k-5k events mainly (i.e. my PR is 9:50 and 16:50, respectively), what would you predict my 800m time to be?\n",
    "\n",
    "**Input**:\n",
    "* PR's for event(s) (i.e. 3k, 5k, 10k, etc.)\n",
    "* The event you're interested in knowing a time for without having run it at all/in a long time (i.e. 800m, mile, etc.)\n",
    "\n",
    "**Output**:\n",
    "* A potential pace range for the targeted event, based off of the stats you input"
   ]
  },
  {
   "cell_type": "code",
   "execution_count": null,
   "id": "d30dbc39-6114-47b4-881c-8cfbb0c043bb",
   "metadata": {},
   "outputs": [],
   "source": []
  }
 ],
 "metadata": {
  "citation-manager": {
   "items": {}
  },
  "kernelspec": {
   "display_name": "Python 3 (ipykernel)",
   "language": "python",
   "name": "python3"
  },
  "language_info": {
   "codemirror_mode": {
    "name": "ipython",
    "version": 3
   },
   "file_extension": ".py",
   "mimetype": "text/x-python",
   "name": "python",
   "nbconvert_exporter": "python",
   "pygments_lexer": "ipython3",
   "version": "3.10.12"
  }
 },
 "nbformat": 4,
 "nbformat_minor": 5
}
