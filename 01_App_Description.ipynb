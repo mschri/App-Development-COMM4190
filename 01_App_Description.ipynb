{
 "cells": [
  {
   "cell_type": "markdown",
   "id": "95987681-6dba-427d-96bd-d6300108e900",
   "metadata": {},
   "source": [
    "## LLM App Design-Project Description\n"
   ]
  },
  {
   "cell_type": "markdown",
   "id": "f66f025e-86ba-42e1-a670-78518bc13bff",
   "metadata": {},
   "source": [
    "## Description\n",
    "Our aim is to develop an application that utilizes LLM output trained specifically on data related to higher level sports and athletic development. The intention is for the application to be used by an athlete of any caliber (amateur to professional/elite), and will provide the user with a more targeted, unique level of detail in its output related to elevating athletic performance to the desire of the user. In other words, the application is designed to take the role of, say, an elite level coach and allowing their knowledge to be more widely accessible. Because this is being designed by two D1 athletes of different sports-XC/Track & Field and basketball-we have both access to explicit training regiments and a greater sense of what kind of training optimizes different athletic goals. Therefore, this kind of information is either directly available to us and can be fed into the application training data (i.e. training data during a specific session, specific pace charts for running), or it is information we have a direction for researching further and can continue finding more specific detail on so as to offer the best possible advice the user seeks. This is also perhaps why this particular application may be a step above the average health fitness tracker, because it offers tailored, extensive advice depending on the athletic ability of the user and uses different health and fitness measures as inputs. The idea behind our application is for it be integrated within existing fitness tracker applications (i.e. Garmin Connect, iPhone's built in Health App, Strava, etc.), so that our application has direct access to an individual's training data, and can answer specific questions of the user.\n"
   ]
  },
  {
   "cell_type": "markdown",
   "id": "8feb25ab-3e40-4b89-bcc1-d47d06d88a16",
   "metadata": {},
   "source": [
    "## User Scenarios examples?\n",
    "\n",
    "1) Someone who used to run, play basketball, football, swim, etc. in high school/college/etc. is looking for a weekly training plan to get back into their respective sport (ex prompt: “I am an X athlete looking to get back into this activity, can you give me a weekly training plan that helps me get back into shape?”)\n",
    "* Input data: The user could input:\n",
    "    * How long since they last played/participated in their sport\n",
    "    * what level they played at (high school, college-if so, which division),\n",
    "    * If they participated in an endurance sport, they can input previous times at peak\n",
    "    fitness and current times\n",
    "    * The user may also input current goal times\n",
    "    * If a skill sport: they can input position played\n",
    "    * Skills they know/looking to continue refining (i.e. specific passing, dribbling,\n",
    "    etc. drills)\n",
    "    * If it’s a strength based activity: user can input max weights they’ve done, goal\n",
    "    weights currently\n",
    "\n",
    "* Output: \n",
    "    * A weekly breakdown (and extending into a timeframe that the user specifies, for\n",
    "example if they want a weekly training regimen for a month, two months, three weeks, …)\n",
    "\n"
   ]
  },
  {
   "cell_type": "markdown",
   "id": "aca23c0c-99b1-4dea-b706-650090463c3e",
   "metadata": {},
   "source": [
    "\n",
    "\n",
    "2) A novice looking to enter into X sport, or an amateur looking to transition to a different sport\n",
    "\n",
    "* Input data: previous sport; level played at; level of proficiency at other sport (0-x number of years played); maybe goal level of proficiency/skill\n",
    "    * If for example looking to enter into an endurance sport i.e. running: can input other data like: resting heart rate, max heart rate, heart rate at X running pace, etc.\n",
    "    * If they were previously, say, a weightlifter-the application can tell them what are the best exercises to transition into, what muscles need to be/are being used\n",
    "    * A user could maybe have the option of inputting video data (i.e. a video of them playing the other sport; implying the model would be trained on video data)\n",
    "\n",
    "* Output: weekly/monthly/etc. training plans (maybe in the form of a table); a list of exercises to best help transition into/help them start training; the muscle groups that the user needs to target; how long a day a user should practice the sport/exercise; nutritional recommendations; sleep recommendations; recovery plans (i.e. how long to recover for, when to recover)\n",
    "\n",
    "\n"
   ]
  },
  {
   "cell_type": "markdown",
   "id": "29004ca1-8ac6-4a2b-80ea-6f325365d691",
   "metadata": {},
   "source": [
    "\n",
    "3) A D1 college runner is looking to increase their lactate threshold, marathon pace, race pace, etc.\n",
    "\n",
    "* Input data: race PRs; max average heart rate in workouts; what workouts the user is currently doing (& often a week i.e. two workouts a week, three)\n",
    "* Output: a progression pace chart that maps out starting paces (that the user inputs, for example) and goal paces\n",
    "\n"
   ]
  },
  {
   "cell_type": "markdown",
   "id": "533748d0-6f7b-4ceb-87a8-b41d94c25e01",
   "metadata": {},
   "source": [
    "\n",
    "\n",
    "4) An athlete/amateur athlete looking for a progression timeline for getting back into a sport after injury\n",
    "* Input: i.e. \"I have been injured for X amount of time, I am a ___ athlete (runner, lifter, etc.), what is the best course of action for returning to my sport after an injury to ___\" or \"I injured this muscle, how to rehab?\"\n",
    "    * Can also input previous stats, similar to those mentioned above in previous user scenarios (i.e. heart race, average paces or weights lifted, etc.)\n",
    "* Output: a workout timeline, including a recovery period; maybe the timeline can be split into phases (i.e. first phase-recovery + rehab exercises; second phase-easy running, incorporating relatively easy/light workouts, etc.)\n",
    "\n",
    "\n",
    "\n"
   ]
  },
  {
   "cell_type": "markdown",
   "id": "ab5e4580-d60d-49d1-92f5-d82b9fbc08e4",
   "metadata": {},
   "source": [
    "\n",
    "5) A coach or trainer looking to craft a regiment for their athlete; i.e. a coach for a middle distance runner wants to incorporate workouts that engage both anaerobic & aerobic systems, while distance runners are looking to exercise their aerobic capacities; further, outside exercises/weight lifting schemes look different depending on the muscle group that the athlete wants to target and strengthen\n",
    "* Input: athlete type (i.e. distance runner, 800m primary event runner, sprinter), lactate threshold levels, race paces, etc.\n",
    "* Output: lifting regiments, basic outlines of exercises and workout that engage different systems (anaerobic, aerobic, mixed, etc.)\n",
    "\n",
    "\n",
    "\n",
    "\n",
    "\n",
    "\n"
   ]
  },
  {
   "cell_type": "markdown",
   "id": "07549790-1bb7-4072-b247-d65103e5e34b",
   "metadata": {},
   "source": [
    "General Outline of outputs:\n",
    "* training regiments, in the form of: weekly schedules, weekly or daily breakdowns on a monthly basis\n",
    "* Certain biometric goals: nutrtion habits/nutrients required, sleep levels, specific pace goals, step goals\n",
    "* Check-ins/daily reinforcement messages and updates:\n",
    "    * Ex: generate 5 daily messages given that I am on X week of training of Y total weeks\n",
    "    * contingency scenarios included: Ex-if user misses a day or two in training, how might the system update the\n",
    "    training plan?\n",
    "* Supplementary exercises to strengthened targeted muscle groups depending on sport/event\n"
   ]
  },
  {
   "cell_type": "markdown",
   "id": "406a1d5f-0ba9-4298-b88e-ea96ebf580be",
   "metadata": {},
   "source": [
    "Prompting/usage ideas:\n",
    "*i.e. how to get faster, how to lower heart rate, other how to scenarios\n",
    "*(Very race specific) What’s my threshold pace, lactate threshold, marathon pace, ….\n",
    "*What’s the appropriate amount of hydration for x level of activity\n",
    "*Step goal given an average count\n",
    "*How much to weight lift if last week I lifted ___ amount?\n",
    "*Give me a running workout?\n",
    "*Generate a graph of heart rate averages per run over time?\n"
   ]
  }
 ],
 "metadata": {
  "kernelspec": {
   "display_name": "Python 3-12 (COMM4190)",
   "language": "python",
   "name": "python3-12_comm4190"
  },
  "language_info": {
   "codemirror_mode": {
    "name": "ipython",
    "version": 3
   },
   "file_extension": ".py",
   "mimetype": "text/x-python",
   "name": "python",
   "nbconvert_exporter": "python",
   "pygments_lexer": "ipython3",
   "version": "3.12.8"
  }
 },
 "nbformat": 4,
 "nbformat_minor": 5
}
