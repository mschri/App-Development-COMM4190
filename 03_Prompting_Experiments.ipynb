{
 "cells": [
  {
   "cell_type": "markdown",
   "id": "92265396-94b0-4962-b1c0-be4394222fdb",
   "metadata": {},
   "source": [
    "* Calling and prompting chatgpt these kinds of queries (outlined in user scenarios), and seeing how it responds (before implementing structured, tailored outputs)"
   ]
  },
  {
   "cell_type": "markdown",
   "id": "2b923ec9-be6c-4fe7-ae19-71bb0af06ef0",
   "metadata": {},
   "source": [
    "### Setup:"
   ]
  },
  {
   "cell_type": "code",
   "execution_count": 21,
   "id": "ba973c6e-fdf6-40b4-ba2e-5f076a252676",
   "metadata": {},
   "outputs": [],
   "source": [
    "from langchain_openai import ChatOpenAI\n",
    "from openai import OpenAI\n",
    "from dotenv import load_dotenv\n",
    "import os"
   ]
  },
  {
   "cell_type": "code",
   "execution_count": 24,
   "id": "591f6f5f-eb76-4100-9a50-78e88cd9d115",
   "metadata": {},
   "outputs": [],
   "source": [
    "_ = load_dotenv()\n",
    "model = ChatOpenAI(model=\"gpt-4o-mini\", temperature=0)"
   ]
  },
  {
   "cell_type": "code",
   "execution_count": 26,
   "id": "40084fdb-2bcb-4d76-88f4-24b18b533566",
   "metadata": {},
   "outputs": [],
   "source": [
    "from langchain_core.output_parsers import StrOutputParser\n",
    "output_parser = StrOutputParser()\n",
    "chain= model | output_parser"
   ]
  },
  {
   "cell_type": "code",
   "execution_count": 28,
   "id": "001940d0-f2cd-47f9-9e8f-61649bce8db4",
   "metadata": {},
   "outputs": [
    {
     "data": {
      "text/plain": [
       "'Hello! How can I assist you today?'"
      ]
     },
     "execution_count": 28,
     "metadata": {},
     "output_type": "execute_result"
    }
   ],
   "source": [
    "## test\n",
    "chain.invoke(\"hello\")"
   ]
  },
  {
   "cell_type": "code",
   "execution_count": null,
   "id": "dddf22d2-ba2d-4245-aebe-19fd0075528d",
   "metadata": {},
   "outputs": [],
   "source": []
  },
  {
   "cell_type": "markdown",
   "id": "18bf04ab-f5b3-4645-bfc7-dc4cfe555e1b",
   "metadata": {},
   "source": [
    "### **Prompt 1:**\n",
    "I am a novice runner looking to get into running. Can you give me a plan of three weeks worth of training to help me start getting into the sport?"
   ]
  },
  {
   "cell_type": "code",
   "execution_count": 31,
   "id": "cc539838-464d-4360-8a4e-c1f36ff29e62",
   "metadata": {},
   "outputs": [
    {
     "name": "stdout",
     "output_type": "stream",
     "text": [
      "Absolutely! Here’s a simple three-week training plan designed for novice runners. This plan focuses on gradually building your endurance and comfort with running. Make sure to listen to your body, and feel free to adjust the plan as needed.\n",
      "\n",
      "### Week 1: Building a Foundation\n",
      "\n",
      "**Goal:** Get comfortable with walking and light jogging.\n",
      "\n",
      "- **Monday:** \n",
      "  - 20 minutes of brisk walking\n",
      "- **Tuesday:** \n",
      "  - Rest or cross-training (cycling, swimming, etc.)\n",
      "- **Wednesday:** \n",
      "  - 1-minute jog, 2-minute walk (repeat for 20 minutes)\n",
      "- **Thursday:** \n",
      "  - Rest\n",
      "- **Friday:** \n",
      "  - 20 minutes of brisk walking\n",
      "- **Saturday:** \n",
      "  - 1-minute jog, 2-minute walk (repeat for 20 minutes)\n",
      "- **Sunday:** \n",
      "  - Rest or light activity (yoga, stretching)\n",
      "\n",
      "### Week 2: Increasing Jogging Time\n",
      "\n",
      "**Goal:** Increase the duration of jogging intervals.\n",
      "\n",
      "- **Monday:** \n",
      "  - 25 minutes of brisk walking\n",
      "- **Tuesday:** \n",
      "  - Rest or cross-training\n",
      "- **Wednesday:** \n",
      "  - 2-minute jog, 2-minute walk (repeat for 20 minutes)\n",
      "- **Thursday:** \n",
      "  - Rest\n",
      "- **Friday:** \n",
      "  - 25 minutes of brisk walking\n",
      "- **Saturday:** \n",
      "  - 2-minute jog, 2-minute walk (repeat for 20 minutes)\n",
      "- **Sunday:** \n",
      "  - Rest or light activity\n",
      "\n",
      "### Week 3: Building Endurance\n",
      "\n",
      "**Goal:** Further increase jogging intervals and reduce walking time.\n",
      "\n",
      "- **Monday:** \n",
      "  - 30 minutes of brisk walking\n",
      "- **Tuesday:** \n",
      "  - Rest or cross-training\n",
      "- **Wednesday:** \n",
      "  - 3-minute jog, 2-minute walk (repeat for 20 minutes)\n",
      "- **Thursday:** \n",
      "  - Rest\n",
      "- **Friday:** \n",
      "  - 30 minutes of brisk walking\n",
      "- **Saturday:** \n",
      "  - 3-minute jog, 2-minute walk (repeat for 20 minutes)\n",
      "- **Sunday:** \n",
      "  - Rest or light activity\n",
      "\n",
      "### Additional Tips:\n",
      "\n",
      "1. **Warm-Up and Cool Down:** Always start with a 5-minute warm-up (walking or dynamic stretches) and finish with a cool-down (walking and stretching).\n",
      "2. **Hydration:** Stay hydrated before, during, and after your runs.\n",
      "3. **Footwear:** Invest in a good pair of running shoes to support your feet and prevent injuries.\n",
      "4. **Listen to Your Body:** If you feel pain or excessive fatigue, take an extra rest day or modify the plan as needed.\n",
      "5. **Progression:** After three weeks, you can start increasing your jogging intervals further and decreasing walking time as you feel comfortable.\n",
      "\n",
      "Enjoy your running journey!\n"
     ]
    }
   ],
   "source": [
    "print(chain.invoke(\"I am a novice runner looking to get into running. Can you give me a plan of three weeks worth of training to help me start getting into the sport?\"))"
   ]
  },
  {
   "cell_type": "markdown",
   "id": "ed42f14c-eefb-4095-a1fe-7cfad5779534",
   "metadata": {},
   "source": [
    "* This is the desired kind of output for our app (in the form of a week-by-week breakdown with daily descriptions of workouts)\n",
    "* What's missing is the tailored, specified knowledge\n",
    "* Output shows this is possible"
   ]
  },
  {
   "cell_type": "code",
   "execution_count": null,
   "id": "6f55f699-7598-425a-8c3d-838dbd131ace",
   "metadata": {},
   "outputs": [],
   "source": []
  },
  {
   "cell_type": "markdown",
   "id": "5e500374-5a49-4a4a-a268-a35fd1acb192",
   "metadata": {},
   "source": [
    "### **Prompt 2:**\n",
    "\"I'm a former basketball athlete that played in high school, and I'm trying to get more into running after having stopped playing for about two years now. What are the best practices for getting into runner as a former athlete?\""
   ]
  },
  {
   "cell_type": "code",
   "execution_count": 33,
   "id": "31ba052d-9984-4980-b723-ac6779ea7cb4",
   "metadata": {},
   "outputs": [
    {
     "name": "stdout",
     "output_type": "stream",
     "text": [
      "Transitioning from basketball to running can be a rewarding experience, especially since you already have a solid athletic foundation. Here are some best practices to help you ease into running:\n",
      "\n",
      "### 1. **Start Gradually**\n",
      "   - **Ease into it**: Begin with a mix of walking and running. For example, start with a 20-30 minute session where you alternate between 1-2 minutes of running and 3-4 minutes of walking.\n",
      "   - **Follow a plan**: Consider using a beginner running program like Couch to 5K, which gradually increases your running time and distance.\n",
      "\n",
      "### 2. **Set Realistic Goals**\n",
      "   - **Short-term goals**: Set achievable goals, such as running for a certain amount of time or distance without stopping.\n",
      "   - **Long-term goals**: Consider training for a 5K or 10K race to give you something to work towards.\n",
      "\n",
      "### 3. **Focus on Form**\n",
      "   - **Running technique**: Pay attention to your running form. Keep your posture upright, shoulders relaxed, and arms at a 90-degree angle. Aim for a midfoot strike rather than landing on your heels.\n",
      "   - **Breathing**: Practice rhythmic breathing to help maintain your pace and reduce fatigue.\n",
      "\n",
      "### 4. **Cross-Training**\n",
      "   - **Incorporate other activities**: Engage in cross-training activities like cycling, swimming, or strength training to build overall fitness and prevent injury.\n",
      "   - **Flexibility and mobility**: Include stretching and mobility exercises to maintain flexibility and prevent tightness, especially in your hips and legs.\n",
      "\n",
      "### 5. **Listen to Your Body**\n",
      "   - **Rest and recovery**: Allow adequate recovery time between runs, especially in the beginning. If you feel pain or discomfort, take a break or reduce your intensity.\n",
      "   - **Injury prevention**: Pay attention to any signs of injury and address them promptly. Consider consulting a physical therapist if you have any concerns.\n",
      "\n",
      "### 6. **Invest in Proper Gear**\n",
      "   - **Running shoes**: Get fitted for a good pair of running shoes that suit your foot type and running style. Proper footwear can help prevent injuries.\n",
      "   - **Comfortable clothing**: Wear moisture-wicking fabrics to keep you comfortable during your runs.\n",
      "\n",
      "### 7. **Stay Hydrated and Fuel Properly**\n",
      "   - **Hydration**: Drink water before, during, and after your runs, especially if you're running longer distances.\n",
      "   - **Nutrition**: Maintain a balanced diet to support your training. Focus on carbohydrates for energy, protein for recovery, and healthy fats.\n",
      "\n",
      "### 8. **Join a Community**\n",
      "   - **Running groups**: Consider joining a local running club or group. This can provide motivation, accountability, and social interaction.\n",
      "   - **Online communities**: Engage with online running forums or social media groups for tips, support, and encouragement.\n",
      "\n",
      "### 9. **Track Your Progress**\n",
      "   - **Use apps or journals**: Keep a running log or use apps to track your distance, pace, and how you feel during each run. This can help you see your progress and stay motivated.\n",
      "\n",
      "### 10. **Enjoy the Process**\n",
      "   - **Find joy in running**: Explore different routes, listen to music or podcasts, and enjoy the scenery. Make running a fun and enjoyable part of your routine.\n",
      "\n",
      "By following these practices, you can transition smoothly into running while minimizing the risk of injury and maximizing your enjoyment. Good luck, and happy running!\n"
     ]
    }
   ],
   "source": [
    "print(chain.invoke(\"I'm a former basketball athlete that played in high school, and I'm trying to get more into running after having stopped playing for about two years now. What are the best practices for getting into runner as a former athlete?\"))"
   ]
  },
  {
   "cell_type": "markdown",
   "id": "ad60724e-eb86-4666-9177-21dcf3c9f17b",
   "metadata": {},
   "source": [
    "Notes:\n",
    "* the dietary and nutritional recommendations could be more refined/specific (i.e. how much to drink before a run, what food groups to emphasize)\n",
    "* Specify what kind of gear is most appropriate for the kind of running you want to get into (i.e. provide examples of popular/most effective shoe brands currently)\n",
    "* **Output could include a provsional response/questioning** feature that inquire further to the user how long their goal weekly mileage is, their goal racing times, etc.\n"
   ]
  },
  {
   "cell_type": "code",
   "execution_count": null,
   "id": "38ed5f32-2566-4781-abfc-ff05e500d394",
   "metadata": {},
   "outputs": [],
   "source": []
  },
  {
   "cell_type": "markdown",
   "id": "3c1fc77a-ebd3-40af-892e-0d5dbdf7d81b",
   "metadata": {},
   "source": [
    "### **Prompt 3:**\n",
    "\"I recently injured my ankle (I tore two ligaments of the three in my foot, and badly sprained the third). What is the best recovery process for returning back to running?\""
   ]
  },
  {
   "cell_type": "code",
   "execution_count": 34,
   "id": "46b1b74b-be5b-4f1b-b9bc-80efae634042",
   "metadata": {},
   "outputs": [
    {
     "name": "stdout",
     "output_type": "stream",
     "text": [
      "I'm not a doctor, but I can provide some general advice on recovering from an ankle injury, especially one involving ligament damage. It's crucial to follow a structured recovery process to ensure proper healing and to minimize the risk of re-injury. Here are some steps you might consider:\n",
      "\n",
      "### 1. **Initial Rest and Protection**\n",
      "   - **RICE Method**: Rest, Ice, Compression, Elevation. This helps reduce swelling and pain in the initial days after the injury.\n",
      "   - **Immobilization**: Depending on the severity of the injury, you may need a brace or splint to stabilize the ankle.\n",
      "\n",
      "### 2. **Consult a Healthcare Professional**\n",
      "   - **Assessment**: Get a thorough evaluation from a healthcare provider, such as a physical therapist or orthopedic specialist. They can provide a tailored recovery plan based on the severity of your injury.\n",
      "   - **Imaging**: An MRI or X-ray may be necessary to assess the extent of the damage.\n",
      "\n",
      "### 3. **Rehabilitation Phase**\n",
      "   - **Physical Therapy**: Engage in a rehabilitation program that focuses on restoring range of motion, strength, and stability. A physical therapist can guide you through specific exercises.\n",
      "   - **Gentle Range of Motion Exercises**: Start with non-weight-bearing exercises to improve flexibility and mobility.\n",
      "   - **Strengthening Exercises**: Gradually introduce exercises that strengthen the muscles around the ankle, such as resistance bands or bodyweight exercises.\n",
      "\n",
      "### 4. **Gradual Return to Activity**\n",
      "   - **Weight-Bearing**: As you progress, gradually increase weight-bearing activities. Start with walking before moving to more dynamic activities.\n",
      "   - **Balance and Proprioception Training**: Incorporate exercises that improve balance and proprioception, such as standing on one leg or using a balance board.\n",
      "\n",
      "### 5. **Return to Running**\n",
      "   - **Start Slow**: Begin with a walk-run program. For example, alternate between walking and short intervals of running.\n",
      "   - **Listen to Your Body**: Pay attention to any pain or discomfort. If you experience pain, reduce intensity or take a step back in your recovery.\n",
      "   - **Surface and Footwear**: Start running on softer surfaces (like grass or a track) and ensure you have proper footwear that provides support.\n",
      "\n",
      "### 6. **Cross-Training**\n",
      "   - While recovering, consider low-impact activities such as swimming or cycling to maintain cardiovascular fitness without putting too much strain on your ankle.\n",
      "\n",
      "### 7. **Ongoing Care**\n",
      "   - **Strengthening and Flexibility**: Continue to work on ankle strength and flexibility even after returning to running to prevent future injuries.\n",
      "   - **Gradual Progression**: Increase your running distance and intensity gradually, following the 10% rule (increase mileage by no more than 10% per week).\n",
      "\n",
      "### 8. **Monitor Progress**\n",
      "   - Keep track of your recovery and any symptoms. If you experience setbacks, consult your healthcare provider.\n",
      "\n",
      "### 9. **Consider Professional Guidance**\n",
      "   - If you're unsure about any part of your recovery or if you have specific concerns, consider working with a sports medicine specialist or a physical therapist who specializes in running injuries.\n",
      "\n",
      "Always prioritize your health and recovery, and don't rush the process. It's essential to allow your body to heal properly to avoid long-term issues.\n"
     ]
    }
   ],
   "source": [
    "print(chain.invoke(\"I recently injured my ankle (I tore two ligaments of the three in my foot, and badly sprained the third). What is the best recovery process for returning back to running?\"))"
   ]
  },
  {
   "cell_type": "markdown",
   "id": "0e4d40bf-b63d-478e-b8d1-db87fdcfeb8e",
   "metadata": {},
   "source": [
    "* Output can exclude:\n",
    "  * \"Consider professional guidance\" response\n",
    "  * \"Consult a healthcare professional\"\n",
    "* Output might also want to include specific exercises that target ankle strength"
   ]
  },
  {
   "cell_type": "code",
   "execution_count": null,
   "id": "da8572dd-be52-4566-9268-1a2ee26f0a26",
   "metadata": {},
   "outputs": [],
   "source": []
  },
  {
   "cell_type": "markdown",
   "id": "a7901f5b-0af4-443c-9aa2-cae4bc1e828b",
   "metadata": {},
   "source": [
    "### **Prompt 4:**\n",
    "\"I am currently a Division 1 college middle distance runner, how can I increase my lactate threshold level?\""
   ]
  },
  {
   "cell_type": "code",
   "execution_count": 36,
   "id": "bb35a634-db2a-4d9c-bccf-3a6348e2eb33",
   "metadata": {},
   "outputs": [
    {
     "name": "stdout",
     "output_type": "stream",
     "text": [
      "Increasing your lactate threshold is crucial for improving your performance as a middle-distance runner. Here are several strategies you can implement to help raise your lactate threshold:\n",
      "\n",
      "1. **Interval Training**: Incorporate high-intensity interval training (HIIT) into your routine. This involves short bursts of intense effort followed by recovery periods. For example, you might run 800 meters at a pace faster than your race pace, followed by a rest period, and repeat several times.\n",
      "\n",
      "2. **Tempo Runs**: Include tempo runs in your training. These runs are typically done at a \"comfortably hard\" pace, which is just below your lactate threshold. Aim for 20-40 minutes at this pace, focusing on maintaining a steady effort.\n",
      "\n",
      "3. **Long Runs**: While long runs are typically done at a lower intensity, incorporating some segments at a faster pace can help improve your lactate threshold. For example, you might run the last 20 minutes of a long run at a tempo pace.\n",
      "\n",
      "4. **Strength Training**: Incorporate strength training to improve your overall power and efficiency. Focus on exercises that target your legs, core, and upper body. Stronger muscles can help you maintain a higher intensity for longer periods.\n",
      "\n",
      "5. **Plyometrics**: Adding plyometric exercises can improve your running economy and power, which can indirectly help raise your lactate threshold.\n",
      "\n",
      "6. **Proper Recovery**: Ensure you are allowing adequate recovery between hard workouts. This includes getting enough sleep, proper nutrition, and active recovery days to help your body adapt to the training stress.\n",
      "\n",
      "7. **Nutrition**: Pay attention to your diet. Consuming a balanced diet rich in carbohydrates, proteins, and healthy fats can support your training. Some athletes also find that training in a fasted state can help improve their lactate threshold, but this should be approached with caution and ideally under the guidance of a coach or nutritionist.\n",
      "\n",
      "8. **Hydration**: Staying well-hydrated is essential for optimal performance and recovery. Dehydration can negatively impact your ability to train at high intensities.\n",
      "\n",
      "9. **Monitor Progress**: Use tools like heart rate monitors or lactate testing (if available) to track your progress and adjust your training accordingly. Knowing your lactate threshold can help you tailor your workouts more effectively.\n",
      "\n",
      "10. **Consistency**: Finally, consistency is key. Regularly incorporating these strategies into your training will yield the best results over time.\n",
      "\n",
      "Always consult with your coach or a sports scientist to tailor these strategies to your specific needs and to ensure that you are training safely and effectively.\n"
     ]
    }
   ],
   "source": [
    "print(chain.invoke(\"I am currently a Division 1 college middle distance runner, how can I increase my lactate threshold level?\"))"
   ]
  },
  {
   "cell_type": "markdown",
   "id": "104ce709-5802-4ef6-8d05-32c12cad55b7",
   "metadata": {},
   "source": [
    "Notes:\n",
    "* Voice of LLM output should mimic an elite level coach\n",
    "* Once again the outputs for certain recommendations should be more specific-on recovery, what are the aims of certain workouts, more explicit examples of certain workouts\n",
    "* Eliminate \"Always consult with your coach...\" kind of outputs"
   ]
  },
  {
   "cell_type": "code",
   "execution_count": null,
   "id": "eb2e81a8-a07d-408d-a56c-1de14293987d",
   "metadata": {},
   "outputs": [],
   "source": []
  },
  {
   "cell_type": "markdown",
   "id": "2d46fe02-0b47-4464-aa4d-bfdd8a1c71bc",
   "metadata": {},
   "source": [
    "### **Prompt 5:** \n",
    "\"I'm a novice level runner, and I am training for a marathon coming up in two months. How should I train if I want to run sub-3 hours for this race?\""
   ]
  },
  {
   "cell_type": "code",
   "execution_count": 37,
   "id": "33b0e592-5cc1-42e4-afa2-a59215866275",
   "metadata": {},
   "outputs": [
    {
     "name": "stdout",
     "output_type": "stream",
     "text": [
      "Training for a marathon with a goal of finishing in under 3 hours is an ambitious but achievable target, especially if you have a solid running base. Here’s a structured plan to help you prepare over the next two months. Keep in mind that you should already be comfortable running at least 30-40 miles per week before starting this plan.\n",
      "\n",
      "### General Training Principles\n",
      "1. **Build a Strong Base**: Ensure you have a good mileage base before ramping up intensity.\n",
      "2. **Long Runs**: These are crucial for marathon training. Aim for at least one long run of 20-22 miles.\n",
      "3. **Speed Work**: Incorporate tempo runs, intervals, and hill workouts to improve your speed and endurance.\n",
      "4. **Recovery**: Allow adequate recovery time to prevent injury and promote adaptation.\n",
      "5. **Nutrition and Hydration**: Focus on a balanced diet and stay hydrated, especially during long runs.\n",
      "\n",
      "### Sample 8-Week Training Plan\n",
      "\n",
      "#### Week 1-2: Base Building\n",
      "- **Monday**: Rest or cross-training (cycling, swimming)\n",
      "- **Tuesday**: 6-8 miles easy run\n",
      "- **Wednesday**: 5 miles with 3 miles at tempo pace (around 6:30-6:45/mile)\n",
      "- **Thursday**: 6-8 miles easy run\n",
      "- **Friday**: Rest or easy 3-4 miles\n",
      "- **Saturday**: Long run (12-14 miles at a comfortable pace)\n",
      "- **Sunday**: Recovery run (4-5 miles easy)\n",
      "\n",
      "#### Week 3-4: Increasing Intensity\n",
      "- **Monday**: Rest or cross-training\n",
      "- **Tuesday**: 8-10 miles easy run\n",
      "- **Wednesday**: 6 miles with 4 miles at tempo pace\n",
      "- **Thursday**: 8 miles easy run\n",
      "- **Friday**: Rest or easy 4-5 miles\n",
      "- **Saturday**: Long run (16-18 miles, include some miles at goal marathon pace, around 6:50/mile)\n",
      "- **Sunday**: Recovery run (5-6 miles easy)\n",
      "\n",
      "#### Week 5-6: Peak Training\n",
      "- **Monday**: Rest or cross-training\n",
      "- **Tuesday**: 10-12 miles easy run\n",
      "- **Wednesday**: 8 miles with 5 miles at tempo pace\n",
      "- **Thursday**: 10 miles easy run\n",
      "- **Friday**: Rest or easy 4-5 miles\n",
      "- **Saturday**: Long run (20-22 miles, include 8-10 miles at goal marathon pace)\n",
      "- **Sunday**: Recovery run (6-7 miles easy)\n",
      "\n",
      "#### Week 7: Tapering Begins\n",
      "- **Monday**: Rest or cross-training\n",
      "- **Tuesday**: 8-10 miles easy run\n",
      "- **Wednesday**: 6 miles with 3 miles at tempo pace\n",
      "- **Thursday**: 6-8 miles easy run\n",
      "- **Friday**: Rest or easy 3-4 miles\n",
      "- **Saturday**: Long run (12-14 miles, include some miles at goal pace)\n",
      "- **Sunday**: Recovery run (4-5 miles easy)\n",
      "\n",
      "#### Week 8: Race Week\n",
      "- **Monday**: Rest or light cross-training\n",
      "- **Tuesday**: 5-6 miles easy run\n",
      "- **Wednesday**: 4 miles with 2 miles at race pace\n",
      "- **Thursday**: 3-4 miles easy run\n",
      "- **Friday**: Rest\n",
      "- **Saturday**: 2-3 miles easy run (shakeout)\n",
      "- **Sunday**: **Race Day!** (Marathon)\n",
      "\n",
      "### Additional Tips\n",
      "- **Pace Strategy**: Aim for a consistent pace of about 6:50 per mile to finish under 3 hours.\n",
      "- **Nutrition**: Practice your race day nutrition during long runs to find what works best for you.\n",
      "- **Listen to Your Body**: If you feel fatigued or notice any pain, adjust your training accordingly.\n",
      "- **Mental Preparation**: Visualize your race and practice mental strategies to stay focused and positive.\n",
      "\n",
      "Good luck with your training, and remember to enjoy the journey!\n"
     ]
    }
   ],
   "source": [
    "print(chain.invoke(\"I'm a novice level runner, and I am training for a marathon coming up in two months. How should I train if I want to run sub-3 hours for this race?\"))"
   ]
  },
  {
   "cell_type": "code",
   "execution_count": null,
   "id": "dd6d89b7-7cf7-4f64-9bfb-ee5746638364",
   "metadata": {},
   "outputs": [],
   "source": []
  },
  {
   "cell_type": "markdown",
   "id": "99631edd-0876-4136-bdd8-8fa3881a0ea6",
   "metadata": {},
   "source": [
    "### **Prompt 6:**\n",
    "\"I am an amateur runner, meaning I run about 5 days a week, and on average about 8-10 miles a day. What is a reasonable marathon time that I should aim for?\""
   ]
  },
  {
   "cell_type": "code",
   "execution_count": 39,
   "id": "2deb744d-222a-4fdd-8e37-587a0dbceae4",
   "metadata": {},
   "outputs": [
    {
     "name": "stdout",
     "output_type": "stream",
     "text": [
      "As an amateur runner who trains consistently with a weekly mileage of 40-50 miles, a reasonable marathon time can vary based on several factors, including your age, running experience, and overall fitness level. However, a general guideline for amateur runners is as follows:\n",
      "\n",
      "- **Beginner Runners**: If you are relatively new to running or have not completed a marathon before, a time of 4:30 to 5:30 hours is a common target.\n",
      "- **Intermediate Runners**: If you have some experience and are running regularly, aiming for a time between 3:30 to 4:30 hours is reasonable.\n",
      "- **Advanced Runners**: If you have been running for a while and have a solid base, you might aim for a time under 3:30 hours.\n",
      "\n",
      "Given your current training regimen of 8-10 miles a day, you might be in the intermediate to advanced category, depending on your experience and race history. Aiming for a marathon time between 3:30 and 4:00 hours could be a good target for you, especially if you incorporate some longer runs and speed work into your training.\n",
      "\n",
      "Ultimately, it's important to listen to your body, set realistic goals, and adjust your expectations based on your training progress and race day conditions. Good luck with your marathon training!\n"
     ]
    }
   ],
   "source": [
    "print(chain.invoke(\"I am an amateur runner, meaning I run about 5 days a week, and on average about 8-10 miles a day. What is a reasonable marathon time that I should aim for?\"))"
   ]
  },
  {
   "cell_type": "code",
   "execution_count": null,
   "id": "724b79c7-3528-42e2-9569-c8058f584b67",
   "metadata": {},
   "outputs": [],
   "source": []
  },
  {
   "cell_type": "markdown",
   "id": "4ab782ca-559a-42a8-b2ec-93907db453e1",
   "metadata": {},
   "source": [
    "### **Prompt 7:**\n",
    "\"What are good weight lifting exercises for distance runners like myself?\""
   ]
  },
  {
   "cell_type": "code",
   "execution_count": 41,
   "id": "d445bed9-7be3-421e-8979-336556b2c16b",
   "metadata": {},
   "outputs": [
    {
     "name": "stdout",
     "output_type": "stream",
     "text": [
      "As a distance runner, incorporating weight lifting into your training can help improve your strength, power, and overall performance while reducing the risk of injury. Here are some effective weight lifting exercises tailored for distance runners:\n",
      "\n",
      "### Lower Body Exercises\n",
      "1. **Squats** (Back Squats, Front Squats, or Goblet Squats)\n",
      "   - Builds strength in the quads, hamstrings, and glutes.\n",
      "\n",
      "2. **Deadlifts** (Conventional or Romanian)\n",
      "   - Strengthens the posterior chain, including hamstrings, glutes, and lower back.\n",
      "\n",
      "3. **Lunges** (Forward, Reverse, or Lateral)\n",
      "   - Improves balance and strength in the legs, targeting quads, hamstrings, and glutes.\n",
      "\n",
      "4. **Step-Ups**\n",
      "   - Engages the quads and glutes while also improving balance and coordination.\n",
      "\n",
      "5. **Leg Press**\n",
      "   - A good alternative to squats for building leg strength without putting too much strain on the back.\n",
      "\n",
      "### Core Exercises\n",
      "1. **Planks** (Front and Side Planks)\n",
      "   - Strengthens the core, which is essential for maintaining good running form.\n",
      "\n",
      "2. **Russian Twists**\n",
      "   - Engages the obliques and helps with rotational stability.\n",
      "\n",
      "3. **Medicine Ball Throws**\n",
      "   - Improves explosive power and core strength.\n",
      "\n",
      "4. **Hanging Leg Raises**\n",
      "   - Targets the lower abs and hip flexors, which are important for running.\n",
      "\n",
      "### Upper Body Exercises\n",
      "1. **Push-Ups**\n",
      "   - Builds upper body strength, which can help with overall posture and arm drive while running.\n",
      "\n",
      "2. **Pull-Ups or Lat Pulldowns**\n",
      "   - Strengthens the back and shoulders, contributing to better running posture.\n",
      "\n",
      "3. **Dumbbell Shoulder Press**\n",
      "   - Strengthens the shoulders and arms, which can help with arm swing during running.\n",
      "\n",
      "### Plyometric Exercises\n",
      "1. **Box Jumps**\n",
      "   - Develops explosive power in the legs, which can improve speed and efficiency.\n",
      "\n",
      "2. **Jump Squats**\n",
      "   - Enhances leg power and strength while also providing a cardiovascular benefit.\n",
      "\n",
      "### Tips for Weight Lifting as a Distance Runner\n",
      "- **Focus on Form:** Prioritize proper technique to prevent injuries.\n",
      "- **Moderate Weights:** Use moderate weights with higher repetitions (8-12 reps) to build endurance and strength without excessive bulk.\n",
      "- **Frequency:** Aim for 2-3 strength training sessions per week, allowing for recovery.\n",
      "- **Balance:** Combine strength training with your running program, ensuring you don’t overtrain.\n",
      "- **Recovery:** Incorporate rest days and listen to your body to avoid fatigue and injury.\n",
      "\n",
      "Always consider consulting with a coach or a fitness professional to tailor a program that fits your specific needs and goals as a distance runner.\n"
     ]
    }
   ],
   "source": [
    "print(chain.invoke(\"What are good weight lifting exercises for distance runners like myself?\"))"
   ]
  },
  {
   "cell_type": "code",
   "execution_count": null,
   "id": "fb396661-8358-4038-8c8c-61864e4a5f39",
   "metadata": {},
   "outputs": [],
   "source": []
  },
  {
   "cell_type": "code",
   "execution_count": null,
   "id": "c2e06d9e-88af-4211-ba72-6550f320c7b7",
   "metadata": {},
   "outputs": [],
   "source": []
  },
  {
   "cell_type": "markdown",
   "id": "5a048025-9673-4b1d-90aa-cc50037ad4c1",
   "metadata": {},
   "source": [
    "### Overall Notes:\n",
    "* Build in loops (LLM asks clarification questions from the user depending on the scenario)\n",
    "* Needs access to biometric data of user\n",
    "  * Also needs access to web search (research on maximizing athletic ability)\n",
    "  * Identifying gold standard of the kind of information it needs\n",
    "* Outputs: need to be more specific, more structured, less open ended\n",
    "  * i.e. ideally should give reps/sets per exercise\n",
    "* Need adversarial testing (questions outside of its training data/intended use needs to auto-generate responses that indicate these kinds of questions are outside of its scope)"
   ]
  },
  {
   "cell_type": "code",
   "execution_count": null,
   "id": "fec8dcfd-83db-48b8-b538-ced52df268cd",
   "metadata": {},
   "outputs": [],
   "source": []
  },
  {
   "cell_type": "code",
   "execution_count": null,
   "id": "74d8984b-013d-4aa1-bae0-f4b233017ce6",
   "metadata": {},
   "outputs": [],
   "source": []
  }
 ],
 "metadata": {
  "citation-manager": {
   "items": {}
  },
  "kernelspec": {
   "display_name": "Python 3-12 (COMM4190)",
   "language": "python",
   "name": "python3-12_comm4190"
  },
  "language_info": {
   "codemirror_mode": {
    "name": "ipython",
    "version": 3
   },
   "file_extension": ".py",
   "mimetype": "text/x-python",
   "name": "python",
   "nbconvert_exporter": "python",
   "pygments_lexer": "ipython3",
   "version": "3.12.8"
  }
 },
 "nbformat": 4,
 "nbformat_minor": 5
}
