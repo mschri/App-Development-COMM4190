{
 "cells": [
  {
   "cell_type": "code",
   "execution_count": 4,
   "id": "cabcdef9-8774-4447-8695-b724dd005d15",
   "metadata": {},
   "outputs": [],
   "source": [
    "import sys\n",
    "import base64\n",
    "import zlib\n",
    "from IPython.display import Image,display,SVG"
   ]
  },
  {
   "cell_type": "code",
   "execution_count": 5,
   "id": "14a58562-90ee-405e-b82e-3c27370c11e8",
   "metadata": {},
   "outputs": [],
   "source": [
    "def mm(diagram):\n",
    "    encoded_diagram = base64.urlsafe_b64encode(zlib.compress(diagram.encode('utf-8'), 9)).decode('ascii')\n",
    "    dia_url = f'https://kroki.io/mermaid/svg/{encoded_diagram}'\n",
    "    display(Image(url=dia_url))"
   ]
  },
  {
   "cell_type": "markdown",
   "id": "f76a4936-a93b-4dd0-b6be-aa1a4d7a2344",
   "metadata": {},
   "source": [
    "### Mapping out User Scenarios:\n",
    "One way to map out a few simple user scenarios is through mermaid diagram system:"
   ]
  },
  {
   "cell_type": "markdown",
   "id": "b46aba5d-0663-473f-824b-200e4142b9c9",
   "metadata": {},
   "source": [
    "Samnple chat log:\n",
    "* Start(User opens chat)\n",
    "* Start --> Greet[Chatbot: \"Hi! Need help with your running?\"\n",
    "* Greet --> User: \"How should I train for a 5K?\"\n",
    "* UserQ --> Botprocess=Chatbot analyzes goal and user data\n",
    "* BotProcess --> Advice: Chatbot: \"Start with 3 runs/week, mix distance and speed.\"\n",
    "* Advice --> FollowUp: User has another question?\n",
    "* FollowUp -- Yes --> NewQ= User: \"Should I stretch before or after?\"\n",
    "* NewQ --> StretchAdvice= Chatbot: \"Both! Dynamic before, static after.\"\n",
    "* StretchAdvice --> EndQ=More questions?\n",
    "* EndQ -- No --> Goodbye=Chatbot: \"Good luck! Let me know how it goes.\"\n",
    "* FollowUp -- No --> Goodbye\n",
    "\n",
    "> Integrate into mermaid diagram..."
   ]
  },
  {
   "cell_type": "markdown",
   "id": "ecc6b131-1368-4c60-87fa-39e56281cc87",
   "metadata": {},
   "source": [
    "### Scenario 1: Question about recovery/gradual reintroduction to running post injury:"
   ]
  },
  {
   "cell_type": "code",
   "execution_count": 15,
   "id": "87eebd80-7840-4cee-a8a4-5c0795bc3191",
   "metadata": {},
   "outputs": [
    {
     "data": {
      "text/html": [
       "<img src=\"https://kroki.io/mermaid/svg/eNptUU1LAzEQvfdXvJMfUAWvFVoED3puRa_T7Gw3bjazTrIu6693slWqYmAgIS_vK4vEbwNHx_eeDkrd7QK2nhLr1Xp9d-CYV3g870AR1FHmQaFDjKxw0vl4gNS1DXx8HXS6xnNDGamRIVTIjU8YmdsCKK8KPoi0CL7lzaw0S5hUUVzhQUYDGCp5s4RJBgRKGUpx84-xXaPMs0L6RbYTCTcrbJnUNXa_XyJNMTec_Aej9rEyJwm1KLIy5eLLwthxjuH5SDfTnNS21PWBUVGm-Sk5J1qYkAUvUE5HvZ56q6cg9mzerdVqoGD3PmaVanDZS0SvZBvHRxtf7fxIceqElUFlrDbjsy4NwGqUfzjYyTvrtMRFsdb1FD1X2E-XOPs2P__G6HNjMXyYsLf4bSVjXHwC0tmzdA==\"/>"
      ],
      "text/plain": [
       "<IPython.core.display.Image object>"
      ]
     },
     "metadata": {},
     "output_type": "display_data"
    }
   ],
   "source": [
    "### Tool1: might be a data base of research papers/other internet information for best recovery practices\n",
    "\n",
    "scenario1 = '''\n",
    "sequenceDiagram;\n",
    "    User->>Agent: I'm an amateur runner coming off of injury. What should this week of running look like?\n",
    "    Agent->>User: How long since you last ran?\n",
    "    User->>Agent: Three weeks\n",
    "    Agent->>Tool1: Search web, synthesize findings for treating minor injuries\n",
    "    Tool1->>Agent: Sample data for according to X research paper for best gradual reintroduction practices for running\n",
    "    Agent-->>User: Here are a list of general practices for recovery, (accompanied by) & Sample week with daily breakdown\n",
    "'''\n",
    "mm(scenario1)"
   ]
  },
  {
   "cell_type": "markdown",
   "id": "b57c76d6-11ce-428e-82dd-491352001fd2",
   "metadata": {},
   "source": [
    "* Sample weekly breakdown (output) might include: light running X number of days, cross train Y days, rest Z days"
   ]
  },
  {
   "cell_type": "markdown",
   "id": "1ed96d57-529f-4759-aa1e-faf8873bff89",
   "metadata": {},
   "source": [
    "### Scenario 2: Guaging Certain Paces"
   ]
  },
  {
   "cell_type": "code",
   "execution_count": 7,
   "id": "9f98fcbb-7835-443f-93b8-476d36f2bebf",
   "metadata": {},
   "outputs": [
    {
     "data": {
      "text/html": [
       "<img src=\"https://kroki.io/mermaid/svg/eNplkc1OwzAQhO99ijmC1CKo2ksOrSoqlRuXAucl2SYWsR3WTkt5etbuXySiXGJnZr-ZHQX-7tmVvDZUC9kR9HkLLJPFYlWziwU-GooIje_bCvaIjkrGJ2PnBQRrWobo0TIrs0SlW-_bp7P06Hv9c89CNWd1ALkKDZNElUb9Tl6RbechvQvZKTvcIF5YGEaVaE2I8DtUFAl3O_EWGxJrHJ69c1zGe3iH2DB6jXGyblTZkeoOzF9JHIWMM65-wD_saYGN2XO2CEPgbBcixTDGYdDJdZSWovjJdnmNMJ3cMqzK0kul14j-xPS-ft2ibLSI8c3mbHtpjMT3On1WzOaTWTGfp6T6XosPgwQ6K-1uWFdel5BTp3jeBg55gOLyT6eFcZWAFB11Dp4X1rEE76g1v3ptnNZoKRrvikySBArzCHtBSXMeRn85sMYL\"/>"
      ],
      "text/plain": [
       "<IPython.core.display.Image object>"
      ]
     },
     "metadata": {},
     "output_type": "display_data"
    }
   ],
   "source": [
    "### Tool1: individualized pace and run data\n",
    "### Tool2: online resources i.e. literature, etc.\n",
    "\n",
    "scen2 = '''\n",
    "sequenceDiagram\n",
    "    User->>Agent: What should my pace be for a mile race?\n",
    "    Agent->>Tool1: What your average paces and heart rates for tempo runs\n",
    "    Tool1->>Agent: Here is a list of data (from Garmin Connect) on the user for this past week of training. \n",
    "    Agent->>Tool2: Given these paces and user stats, what should the user be running?\n",
    "    Tool2-->>Agent: According to this VDOT chart, the user should average around 4:45-4:55min in mile races\n",
    "    Agent-->>User: Here is a pace range that you would be expected to run given your personalized information: 4:45 to 4:50 min mile pace.\n",
    "'''\n",
    "\n",
    "mm(scen2)"
   ]
  },
  {
   "cell_type": "markdown",
   "id": "b045c5ec-b3f8-40b5-be88-d63714db1cee",
   "metadata": {},
   "source": [
    "### Scenario 3: Producing a tailored-training plan"
   ]
  },
  {
   "cell_type": "code",
   "execution_count": 16,
   "id": "f010cf42-61d9-4e65-8a51-7e073c1a8182",
   "metadata": {},
   "outputs": [
    {
     "data": {
      "text/html": [
       "<img src=\"https://kroki.io/mermaid/svg/eNqFkk9P3DAQxe98ineDSuwKaLdScwAhKrU9U9TzrDObWHE8qf8QpZ-esYG03SI1lyjxzHu_N-OTyD8ze8OfLXWBxhPo8xA5bK6vbzv2qcEdeSyS0dlHxsggzMzDacQsIfWQA1Ig663vQFFP3w-b3YDWxkSqi5C953BThauiKheDBvc58DnmnhIoMKKouKqpV8BE2toJuXjzBtK30xFOZCieSdDbhE_Nhx0OEpB6VgSQb3H5sdldrD93w_YviO8i7rLBj-I_S3Yt9lwLR4kJfDiwKYk15SA5xapDx7mOMbQ_cqWP1aya_Ab_yhrUlik51Slpa6m2KQSPU0_R_mLss3VtHSgH2VsDQ1pn01LGZZ3uwEXBqFNPL5N3ZBKlwh849qJhqvAW_0S-avBFc_kXVIVvYwF5zXmOyTHpSUwhm6Q7Utp1w5PT20DGSCh8btmuKa82b8UsV8UtR_2z1Xujo6QF--X5FZiGVmZfSJhM_4pT96ijRo51yr2qrmB_7nO9Vf_xPtM1jpQSt_DWsJ4Xh0cbM7nyMU1MTqvfVe0naMYPww==\"/>"
      ],
      "text/plain": [
       "<IPython.core.display.Image object>"
      ]
     },
     "metadata": {},
     "output_type": "display_data"
    }
   ],
   "source": [
    "### Tool1: online resources\n",
    "### Tool2: sample 4-week training plan\n",
    "\n",
    "scen3 = '''\n",
    "sequenceDiagram\n",
    "    User->>Agent: Can you give me a week's worth of training as a 3k-5k distance runner?\n",
    "    Agent->>User: Sure, what are some of your pace goals?\n",
    "    User->>Agent: I'm looking to hit 9:45 for the 3k and 16:50 for the 5k.\n",
    "    Agent->>Tool1: What would be the most effecive workouts for a distance runner looking to hit these paces\n",
    "    Tool1->>Agent: Here is a list of paces that emphasize building aerobic capacity, while also maintaining lactate threshold paces. \n",
    "    Agent->>Tool2: Given these kinds of workouts, please structure a training plan accordingly.\n",
    "    Tool2-->>Agent: Here is a weekly training plan with a day by day breakdown of each workout and run using this structure.\n",
    "    Agent-->>User: Here is a weekly training plan (formatted nicely and visually appealing)\n",
    "    '''\n",
    "mm(scen3)"
   ]
  },
  {
   "cell_type": "markdown",
   "id": "4a362d59-1340-461b-95db-d3bc8ba53a0c",
   "metadata": {},
   "source": [
    "### Scenario 4: Asking for good strengthening/supplementary weightlifting exercises"
   ]
  },
  {
   "cell_type": "code",
   "execution_count": 14,
   "id": "51c47ead-32ce-49fc-9246-bb9ecadcd715",
   "metadata": {},
   "outputs": [
    {
     "data": {
      "text/html": [
       "<img src=\"https://kroki.io/mermaid/svg/eNp9kk1P3DAQhu_8ijkhKkGgUg-IA6hSDyD1VqqeZ51JMq3tCR5nl_DrO_YCyaIVOSSREz_vx_hE6Wmi6OgHY58wnIBdv5XSxe3t955ivoE_A2bARKASCHbE_ZA9d5ljD_RMybGSwgM4jNAKoALCt6urcHltN0hTjJTuoIIr0ciPIv7rR7LmRLHPA-SEHAt9TOgyOzok6iCTb03qrjIra3H7kzXrylcuGhlTT_YYCJyY3il42VGCjbTzOezYRBE62oFO4-gpGAk92PvrPwuvOchRirqBezJkiYHgTR2kW-nPMpVWsqzYZTEtMc-4oQZawrbUqufgp9iTPTfyDH-nMOqX5uhc5qpqqZQOEhMEMR_UdWT9bQk6SRBm-Mexre62xcSb_vHZ_JpjAfMLQTI-JjdAZ_ttg1beEZnPJnhqB8PcFXustadmNb4lVS2TddWlvjtpFwdoSWw1lLOhKo4x2-c6yX0fQbb7rkfMmVLUy09n-PihRI4uEdal0YuWdGM9MkVYxsyBX0rAIBv2nOd3mT38P3eNKGU=\"/>"
      ],
      "text/plain": [
       "<IPython.core.display.Image object>"
      ]
     },
     "metadata": {},
     "output_type": "display_data"
    }
   ],
   "source": [
    "### Tool1: Online Resources\n",
    "\n",
    "scen4 = '''\n",
    "sequenceDiagram\n",
    "    User->>Agent: What are some weightlifting exercises I can do as a 400m/800m runner? \n",
    "    Agent->>Tool1: What are some strength training practices a 400m/800m should do?\n",
    "    Tool1->>Agent: Lists exercises that target the core & lower body, with a few supplemental upper body exercises.\n",
    "    Agent->>User: Here are a list of exercises you do to supplement your training (i.e. deadlifts, lunges, box jumps).\n",
    "    User->>Agent: Why are these exercises the most effective for my kind of event training? \n",
    "    Agent->>Tool1: Synthesize research findings for the most effective strength training practices & assess this list.\n",
    "    Tool1-->>Agent: Here is a list of synthesized findings and themes associated with these movement patterns/exercises.\n",
    "    Agent->>User: These exercises increase explosive power and optimizing mobility patterns.\n",
    "    '''\n",
    "mm(scen4)"
   ]
  },
  {
   "cell_type": "code",
   "execution_count": null,
   "id": "34ad7771-9129-4a5f-9fad-1a0391b8678b",
   "metadata": {},
   "outputs": [],
   "source": []
  }
 ],
 "metadata": {
  "kernelspec": {
   "display_name": "Python 3-12 (COMM4190)",
   "language": "python",
   "name": "python3-12_comm4190"
  },
  "language_info": {
   "codemirror_mode": {
    "name": "ipython",
    "version": 3
   },
   "file_extension": ".py",
   "mimetype": "text/x-python",
   "name": "python",
   "nbconvert_exporter": "python",
   "pygments_lexer": "ipython3",
   "version": "3.12.8"
  }
 },
 "nbformat": 4,
 "nbformat_minor": 5
}
